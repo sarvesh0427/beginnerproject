{
  "cells": [
    {
      "cell_type": "markdown",
      "id": "f7cc08a6",
      "metadata": {
        "id": "f7cc08a6"
      },
      "source": [
        "# Diabetes Prediction"
      ]
    },
    {
      "cell_type": "code",
      "execution_count": 56,
      "id": "3c260f54",
      "metadata": {
        "id": "3c260f54"
      },
      "outputs": [],
      "source": [
        "#Importing pandas for data manipulation\n",
        "import pandas as pd"
      ]
    },
    {
      "cell_type": "code",
      "execution_count": null,
      "id": "4e61df82",
      "metadata": {
        "id": "4e61df82"
      },
      "outputs": [],
      "source": [
        "#Load datasets\n",
        "df = pd.read_csv(\"diabetes.csv\")\n",
        "df.head()"
      ]
    },
    {
      "cell_type": "markdown",
      "source": [
        "**Data Analysis**"
      ],
      "metadata": {
        "id": "n9eUHkuui3wU"
      },
      "id": "n9eUHkuui3wU"
    },
    {
      "cell_type": "code",
      "execution_count": null,
      "id": "86133288",
      "metadata": {
        "id": "86133288"
      },
      "outputs": [],
      "source": [
        "df.isnull().sum()"
      ]
    },
    {
      "cell_type": "code",
      "execution_count": null,
      "id": "9f1a94f9",
      "metadata": {
        "id": "9f1a94f9"
      },
      "outputs": [],
      "source": [
        "df.shape"
      ]
    },
    {
      "cell_type": "code",
      "execution_count": null,
      "id": "f32244f3",
      "metadata": {
        "id": "f32244f3"
      },
      "outputs": [],
      "source": [
        "df.info()"
      ]
    },
    {
      "cell_type": "markdown",
      "source": [
        "**Standardization**"
      ],
      "metadata": {
        "id": "k7Sfo32njRcM"
      },
      "id": "k7Sfo32njRcM"
    },
    {
      "cell_type": "code",
      "execution_count": 61,
      "id": "d7dd57d3",
      "metadata": {
        "id": "d7dd57d3"
      },
      "outputs": [],
      "source": [
        "from sklearn.preprocessing import StandardScaler"
      ]
    },
    {
      "cell_type": "code",
      "execution_count": 62,
      "id": "476d994e",
      "metadata": {
        "id": "476d994e"
      },
      "outputs": [],
      "source": [
        "cols = ['Glucose','BloodPressure','SkinThickness','Insulin','Age']\n",
        "for col in cols:\n",
        "    df[col] = StandardScaler().fit_transform(df[col].values.reshape(-1,1))"
      ]
    },
    {
      "cell_type": "code",
      "source": [
        "df.head()"
      ],
      "metadata": {
        "id": "fvr6fHllJn54"
      },
      "id": "fvr6fHllJn54",
      "execution_count": null,
      "outputs": []
    },
    {
      "cell_type": "code",
      "source": [
        "X = df.drop('Outcome',axis=1)   #Feature value\n",
        "y = df['Outcome']   #Target value"
      ],
      "metadata": {
        "id": "pp0-_huZJ89M"
      },
      "id": "pp0-_huZJ89M",
      "execution_count": 64,
      "outputs": []
    },
    {
      "cell_type": "code",
      "source": [
        "#Splitting dataset in train test set\n",
        "from sklearn.model_selection import train_test_split\n",
        "X_train, X_test, y_train, y_test = train_test_split(X,y, test_size = 0.2, random_state = 42)"
      ],
      "metadata": {
        "id": "3eLzlQPEcd_w"
      },
      "id": "3eLzlQPEcd_w",
      "execution_count": 65,
      "outputs": []
    },
    {
      "cell_type": "markdown",
      "source": [
        "**Applying Random Forest Classifier**"
      ],
      "metadata": {
        "id": "1UZYlIZdiDIt"
      },
      "id": "1UZYlIZdiDIt"
    },
    {
      "cell_type": "code",
      "source": [
        "from sklearn.ensemble import RandomForestClassifier\n",
        "model = RandomForestClassifier(n_estimators=1000)\n",
        "model_fit = model.fit(X_train,y_train)\n",
        "y_pred = model_fit.predict(X_test)"
      ],
      "metadata": {
        "id": "b6KTzD6bc7aR"
      },
      "id": "b6KTzD6bc7aR",
      "execution_count": 66,
      "outputs": []
    },
    {
      "cell_type": "code",
      "source": [
        "from sklearn.metrics import accuracy_score\n",
        "accuracy_score(y_test,y_pred)"
      ],
      "metadata": {
        "id": "cYHxFBlXdYzY"
      },
      "id": "cYHxFBlXdYzY",
      "execution_count": null,
      "outputs": []
    },
    {
      "cell_type": "markdown",
      "source": [
        " **Applying Logistic Regression**"
      ],
      "metadata": {
        "id": "bD9H42QWho4W"
      },
      "id": "bD9H42QWho4W"
    },
    {
      "cell_type": "code",
      "source": [
        "from sklearn.preprocessing import StandardScaler\n",
        "scaler = StandardScaler()\n",
        "X_train_scaled = scaler.fit_transform(X_train)\n",
        "X_test_scaled = scaler.transform(X_test)\n"
      ],
      "metadata": {
        "id": "W_-orcGLhbkg"
      },
      "id": "W_-orcGLhbkg",
      "execution_count": 68,
      "outputs": []
    },
    {
      "cell_type": "code",
      "source": [
        "from sklearn.linear_model import LogisticRegression\n",
        "model1 = LogisticRegression(max_iter=1000)\n",
        "model_fit1 = model1.fit(X_train_scaled,y_train)\n",
        "y_pred1 = model_fit1.predict(X_test_scaled)"
      ],
      "metadata": {
        "id": "GGHrJfrUdmYz"
      },
      "id": "GGHrJfrUdmYz",
      "execution_count": 69,
      "outputs": []
    },
    {
      "cell_type": "code",
      "source": [
        "accuracy_score(y_pred1, y_test) #accuracy check"
      ],
      "metadata": {
        "id": "WoaGq7pofQjN"
      },
      "id": "WoaGq7pofQjN",
      "execution_count": null,
      "outputs": []
    }
  ],
  "metadata": {
    "kernelspec": {
      "display_name": "Python 3 (ipykernel)",
      "language": "python",
      "name": "python3"
    },
    "language_info": {
      "codemirror_mode": {
        "name": "ipython",
        "version": 3
      },
      "file_extension": ".py",
      "mimetype": "text/x-python",
      "name": "python",
      "nbconvert_exporter": "python",
      "pygments_lexer": "ipython3",
      "version": "3.11.5"
    },
    "colab": {
      "provenance": []
    }
  },
  "nbformat": 4,
  "nbformat_minor": 5
}